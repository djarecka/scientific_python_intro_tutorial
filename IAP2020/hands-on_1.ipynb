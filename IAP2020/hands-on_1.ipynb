{
 "cells": [
  {
   "cell_type": "markdown",
   "metadata": {},
   "source": [
    "### Intro to Scientific Python: notebook 1 "
   ]
  },
  {
   "cell_type": "markdown",
   "metadata": {},
   "source": [
    "### 1. warm up exercise\n",
    "\n",
    "#### 1.1 Participants\n",
    "you have a list of dictionray, each dictionary contains information about participant, they should have `name`, `age`, and `sex`. Create a list of names of all the male participants (`sex` should be `M`), and a list of names of all the females (`sex` should be `F`). Calculate the average age for each of the group. Save the information in two dictionaries - `age_dict` and `names_dict`\n",
    "\n",
    "You will need to use `if statement`. Try to find the proper syntax online."
   ]
  },
  {
   "cell_type": "code",
   "execution_count": null,
   "metadata": {},
   "outputs": [],
   "source": [
    "# list of participants\n",
    "participants = [\n",
    "    {\"name\": \"Eve\", \"age\": 32, \"sex\": \"F\"}, \n",
    "    {\"name\": \"Alex\", \"age\": 25, \"sex\": \"M\"}, \n",
    "    {\"name\": \"Mike\", \"age\": 42, \"sex\": \"M\"},\n",
    "    {\"name\": \"Julie\", \"age\": 23, \"sex\": \"F\"}, \n",
    "    {\"name\": \"Peter\", \"age\": 24, \"sex\": \"M\"}, \n",
    "    {\"name\": \"Liz\", \"age\": 40, \"sex\": \"F\"},\n",
    "    {\"name\": \"Mike\", \"age\": 30, \"sex\": \"M\"}, \n",
    "    {\"name\": \"Max\", \"age\": 23, \"sex\": \"M\"}, \n",
    "    {\"name\": \"Tania\", \"age\": 22, \"sex\": \"F\"},\n",
    "    {\"name\": \"Sam\", \"age\": 38, \"sex\": \"M\"}, \n",
    "    {\"name\": \"Dan\", \"age\": 38, \"sex\": None}\n",
    "]\n",
    "\n",
    "# your solution\n"
   ]
  },
  {
   "cell_type": "markdown",
   "metadata": {},
   "source": [
    "#### 1.2 functions\n",
    "Create a function from your solution. Function should take list of participants as an input and return `age_dict` and `name_dict`."
   ]
  },
  {
   "cell_type": "code",
   "execution_count": null,
   "metadata": {},
   "outputs": [],
   "source": [
    "# your solution\n",
    "\n"
   ]
  },
  {
   "cell_type": "markdown",
   "metadata": {},
   "source": [
    "### 2. Jupyter notebook"
   ]
  },
  {
   "cell_type": "markdown",
   "metadata": {},
   "source": [
    "#### 2.1 import `math` library and review available functions"
   ]
  },
  {
   "cell_type": "code",
   "execution_count": null,
   "metadata": {},
   "outputs": [],
   "source": [
    "import math"
   ]
  },
  {
   "cell_type": "code",
   "execution_count": null,
   "metadata": {},
   "outputs": [],
   "source": [
    "# you can use `tab` to see available functions\n",
    "# math. + `tab`"
   ]
  },
  {
   "cell_type": "code",
   "execution_count": null,
   "metadata": {},
   "outputs": [],
   "source": [
    "# check the value of pi"
   ]
  },
  {
   "cell_type": "code",
   "execution_count": null,
   "metadata": {},
   "outputs": [],
   "source": [
    "# run cos function"
   ]
  },
  {
   "cell_type": "code",
   "execution_count": null,
   "metadata": {},
   "outputs": [],
   "source": [
    "# importing specific functions"
   ]
  },
  {
   "cell_type": "markdown",
   "metadata": {},
   "source": [
    "#### 2.2 running shell command"
   ]
  },
  {
   "cell_type": "code",
   "execution_count": null,
   "metadata": {},
   "outputs": [],
   "source": [
    "# single command\n",
    "! pwd"
   ]
  },
  {
   "cell_type": "markdown",
   "metadata": {},
   "source": [
    "if you have multiple commands you can use `%%bash`:"
   ]
  },
  {
   "cell_type": "code",
   "execution_count": null,
   "metadata": {},
   "outputs": [],
   "source": [
    "%%bash\n",
    "pwd\n",
    "ls"
   ]
  },
  {
   "cell_type": "markdown",
   "metadata": {},
   "source": [
    "#### 2.3 jupyter magic function "
   ]
  },
  {
   "cell_type": "code",
   "execution_count": null,
   "metadata": {},
   "outputs": [],
   "source": [
    "# use `%timeit` to  time the execution\n",
    "numbers = range(1000)\n",
    "%timeit [el**2 for el in numbers]"
   ]
  },
  {
   "cell_type": "code",
   "execution_count": null,
   "metadata": {},
   "outputs": [],
   "source": [
    "# review other magic functions: https://ipython.readthedocs.io/en/stable/interactive/magics.html"
   ]
  },
  {
   "cell_type": "markdown",
   "metadata": {},
   "source": [
    "### 3 [NumPy](https://numpy.org/)\n",
    "- a general-purpose array-processing package\n",
    "- provides high-performance multidimensional array objects and tools for working with these arrays\n",
    "- the fundamental package for scientific computing with Python"
   ]
  },
  {
   "cell_type": "code",
   "execution_count": null,
   "metadata": {},
   "outputs": [],
   "source": [
    "# importing numpy and changing name\n",
    "import numpy as np"
   ]
  },
  {
   "cell_type": "code",
   "execution_count": null,
   "metadata": {},
   "outputs": [],
   "source": [
    "# creating an array from the list:\n",
    "large_list = list(range(10000))\n",
    "large_array = np.array(large_list)"
   ]
  },
  {
   "cell_type": "markdown",
   "metadata": {},
   "source": [
    "we can compare the time needed to calculate the second power of each element when using python lists and numpy arrays:"
   ]
  },
  {
   "cell_type": "code",
   "execution_count": null,
   "metadata": {},
   "outputs": [],
   "source": [
    "%timeit [el**2 for el in large_list]"
   ]
  },
  {
   "cell_type": "code",
   "execution_count": null,
   "metadata": {},
   "outputs": [],
   "source": [
    "%timeit large_array**2"
   ]
  },
  {
   "cell_type": "code",
   "execution_count": null,
   "metadata": {},
   "outputs": [],
   "source": [
    "# create a multidimension arrays\n",
    "x_2d = np.array([[2., 3, 4], [10, 20, 30]])\n",
    "x_2d"
   ]
  },
  {
   "cell_type": "code",
   "execution_count": null,
   "metadata": {},
   "outputs": [],
   "source": [
    "# checking number of dimensions and shapes of the array"
   ]
  },
  {
   "cell_type": "code",
   "execution_count": null,
   "metadata": {},
   "outputs": [],
   "source": [
    "# accesing elements of 2d arrays"
   ]
  }
 ],
 "metadata": {
  "kernelspec": {
   "display_name": "Python 3",
   "language": "python",
   "name": "python3"
  },
  "language_info": {
   "codemirror_mode": {
    "name": "ipython",
    "version": 3
   },
   "file_extension": ".py",
   "mimetype": "text/x-python",
   "name": "python",
   "nbconvert_exporter": "python",
   "pygments_lexer": "ipython3",
   "version": "3.7.6"
  }
 },
 "nbformat": 4,
 "nbformat_minor": 2
}
