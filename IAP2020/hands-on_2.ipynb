{
 "cells": [
  {
   "cell_type": "markdown",
   "metadata": {},
   "source": [
    "### [Matplotlib](https://matplotlib.org/)\n",
    "- The most widely-used Python plotting library\n",
    "- Initially modeled on MATLAB's plotting system\n",
    "- Designed to provide complete control over a plot"
   ]
  },
  {
   "cell_type": "code",
   "execution_count": null,
   "metadata": {},
   "outputs": [],
   "source": [
    "# this line enable plots in the notebook\n",
    "%matplotlib inline\n",
    "import matplotlib.pyplot as plt"
   ]
  },
  {
   "cell_type": "code",
   "execution_count": null,
   "metadata": {},
   "outputs": [],
   "source": [
    "# using arange and linspace to create arrays\n",
    "import numpy as np\n",
    "x = np.arange(10)\n",
    "y = np.linspace(0, 5, 10)"
   ]
  },
  {
   "cell_type": "code",
   "execution_count": null,
   "metadata": {},
   "outputs": [],
   "source": [
    "# plot y vs x array\n",
    "plt.plot(x, y, marker=\".\")\n"
   ]
  },
  {
   "cell_type": "code",
   "execution_count": null,
   "metadata": {},
   "outputs": [],
   "source": [
    "# changing color, markers or line style, use additional argument to the function plot: color (you can also check the documentation)"
   ]
  },
  {
   "cell_type": "code",
   "execution_count": null,
   "metadata": {},
   "outputs": [],
   "source": [
    "# set plt.ylim to change the y axis range"
   ]
  },
  {
   "cell_type": "code",
   "execution_count": null,
   "metadata": {},
   "outputs": [],
   "source": [
    "# explore gallery and run https://matplotlib.org/examples/subplots_axes_and_figures/subplot_demo.html"
   ]
  },
  {
   "cell_type": "markdown",
   "metadata": {},
   "source": [
    "### [Pandas](https://pandas.pydata.org/)\n",
    "- a popular Python package for data science\n",
    "- fast and efficient support for DataFrame objects \n",
    "- loading data  from different file formats.\n",
    "- allows for grouping data for aggregation and transformations."
   ]
  },
  {
   "cell_type": "code",
   "execution_count": null,
   "metadata": {},
   "outputs": [],
   "source": [
    "import pandas as pd"
   ]
  },
  {
   "cell_type": "code",
   "execution_count": null,
   "metadata": {},
   "outputs": [],
   "source": [
    "# reading the table from a file\n",
    "df = pd.read_table('https://s3.amazonaws.com/fcp-indi/data/Projects/ABIDE2/RawData/ABIDEII-KKI_1/participants.tsv', na_values=\"n/a\")"
   ]
  },
  {
   "cell_type": "markdown",
   "metadata": {},
   "source": [
    "The data is described here:http://fcon_1000.projects.nitrc.org/indi/abide/ABIDE_LEGEND_V1.02.pdf"
   ]
  },
  {
   "cell_type": "code",
   "execution_count": null,
   "metadata": {},
   "outputs": [],
   "source": [
    "# explore the data frame: use head, and keys\n",
    "df.head()"
   ]
  },
  {
   "cell_type": "code",
   "execution_count": null,
   "metadata": {},
   "outputs": [],
   "source": [
    "df.keys()"
   ]
  },
  {
   "cell_type": "code",
   "execution_count": null,
   "metadata": {},
   "outputs": [],
   "source": [
    "# remove columns that have NaNs: use dropna \n",
    "sub_df = df.dropna(axis=1)"
   ]
  },
  {
   "cell_type": "code",
   "execution_count": null,
   "metadata": {},
   "outputs": [],
   "source": [
    "sub_df.head()"
   ]
  },
  {
   "cell_type": "code",
   "execution_count": null,
   "metadata": {},
   "outputs": [],
   "source": [
    "sub_df.keys()"
   ]
  },
  {
   "cell_type": "code",
   "execution_count": null,
   "metadata": {},
   "outputs": [],
   "source": [
    "# 1. use plt.scatter to plot 'age_at_scan ' vs \"viq\"\n",
    "# 2. use figure to set the figsize\n",
    "# 3. add xlable, ylabel and the title\n"
   ]
  },
  {
   "cell_type": "code",
   "execution_count": null,
   "metadata": {},
   "outputs": [],
   "source": [
    "# 1. use plt.scatter to plot 'age_at_scan ' vs \"viq\"\n"
   ]
  },
  {
   "cell_type": "code",
   "execution_count": null,
   "metadata": {},
   "outputs": [],
   "source": [
    "# 2. use figure to set the figsize\n",
    "# plt.figure(figsize=(10, 5))\n",
    "# plt.scatter(sub_df[\"age_at_scan \"], sub_df[\"viq\"])\n",
    "\n",
    "# 3. add xlable, ylabel and the title\n",
    "# plt.xlabel(\"age\")\n",
    "# plt.ylabel(\"viq\")\n",
    "# plt.title(\"VIQ vs age\")"
   ]
  },
  {
   "cell_type": "code",
   "execution_count": null,
   "metadata": {},
   "outputs": [],
   "source": [
    "# use `groupby` to group the data by diagnostic groups - \"dx_group\" to calculate means in both groups \n",
    "sub_df.groupby(\"dx_group\")[\"viq\", \"piq\"].mean()"
   ]
  },
  {
   "cell_type": "code",
   "execution_count": null,
   "metadata": {},
   "outputs": [],
   "source": [
    "# plot the scatter plot again, this time separate the groups\n",
    "\n",
    "plt.figure(figsize=(10, 5))\n",
    "# More scatter plots, breaking up by species\n",
    "colors = ['blue', 'green']\n",
    "for i, (s, grp) in enumerate(sub_df.groupby('dx_group')):\n",
    "    plt.scatter(grp['age_at_scan '], grp['viq'], c=colors[i])\n",
    "plt.legend([\"autism\", \"control\"])\n",
    "plt.xlabel(\"age\")\n",
    "plt.ylabel(\"viq\")\n",
    "plt.title(\"VIQ vs age\")"
   ]
  },
  {
   "cell_type": "code",
   "execution_count": null,
   "metadata": {},
   "outputs": [],
   "source": [
    "# use plt.sublots to plot  \"viq\" and \"piq\" next to each other\n",
    "# use examples from matplotlib galleries, \n",
    "# e.g. https://matplotlib.org/3.1.1/gallery/subplots_axes_and_figures/figure_title.html#sphx-glr-gallery-subplots-axes-and-figures-figure-title-py"
   ]
  },
  {
   "cell_type": "code",
   "execution_count": null,
   "metadata": {},
   "outputs": [],
   "source": [
    "# Set up a figure with 2 columns\n",
    "fig, axes = plt.subplots(1, 2, figsize=(15, 4))\n",
    "\n",
    "# setting everything for the first plot\n",
    "axes[0].scatter(sub_df[\"age_at_scan \"], sub_df[\"viq\"])\n",
    "axes[0].set_xlabel(\"age\")\n",
    "axes[0].set_ylabel(\"viq\")\n",
    "axes[0].set_title(\"VIQ vs age\")\n",
    "\n",
    "# setting everything for the second plot\n",
    "axes[1].scatter(sub_df[\"age_at_scan \"], sub_df[\"piq\"])\n",
    "axes[1].set_xlabel(\"age\")\n",
    "axes[1].set_ylabel(\"piq\")\n",
    "axes[1].set_title(\"PIQ vs age\")\n"
   ]
  },
  {
   "cell_type": "markdown",
   "metadata": {},
   "source": [
    "#### Matplotlib Pros\n",
    "- provides low-level control over virtually every element of a plot\n",
    "- close integration with numpy\n",
    "- large and active community\n",
    "- big range of functionality (figure compositing, layering, annotation, coordinate transformations, color mapping, etc.)\n",
    "\n",
    "#### Matplotlib Cons\n",
    "- steep learning curve\n",
    "- API is extremely unpredictable -- redundancy and inconsistency are common\n",
    "- some simple things are hard; some complex things are easy\n",
    "- default styles are kind of ugly\n",
    "- documentation is often hard to use (check the gallery!)"
   ]
  },
  {
   "cell_type": "markdown",
   "metadata": {},
   "source": [
    "#### Pandas as an alternative\n",
    "- DataFrame integration\n",
    "- often the easiest approach for simple data exploration"
   ]
  },
  {
   "cell_type": "code",
   "execution_count": null,
   "metadata": {},
   "outputs": [],
   "source": [
    "# using pandas to for simple scatter plot\n",
    "sub_df.plot('age_at_scan ', \"piq\", kind=\"scatter\")"
   ]
  },
  {
   "cell_type": "markdown",
   "metadata": {},
   "source": [
    "### [Seaborn](https://seaborn.pydata.org/index.html) as an alternative\n",
    "-  data visualization library based on matplotlib\n",
    "- provides a high-level interface for drawing attractive and informative statistical graphics\n",
    "- generates beautiful plots in very little code (default style is much nicer than in Matplotlib)\n",
    "- Very good documentation! :-)\n"
   ]
  },
  {
   "cell_type": "code",
   "execution_count": null,
   "metadata": {},
   "outputs": [],
   "source": [
    "import seaborn as sns"
   ]
  },
  {
   "cell_type": "code",
   "execution_count": null,
   "metadata": {},
   "outputs": [],
   "source": [
    "# reset the default parameters\n",
    "sns.set()\n",
    "# http://seaborn.pydata.org/tutorial/aesthetics.html#scaling-plot-elements\n",
    "sns.set_context(\"paper\")\n",
    "# http://seaborn.pydata.org/tutorial/aesthetics.html#seaborn-figure-styles\n",
    "sns.set_style(\"dark\")"
   ]
  },
  {
   "cell_type": "code",
   "execution_count": null,
   "metadata": {},
   "outputs": [],
   "source": [
    "# this is just a copy of the previous plot, but uses seaborn styles\n",
    "plt.figure(figsize=(10, 5))\n",
    "plt.scatter(sub_df['age_at_scan '], sub_df.viq)\n",
    "plt.xlabel('Age at scan')\n",
    "plt.ylabel('Verbal IQ')\n",
    "plt.title('Comparing Age and Verbal IQ')"
   ]
  },
  {
   "cell_type": "code",
   "execution_count": null,
   "metadata": {},
   "outputs": [],
   "source": [
    "# use seaborn joinplot\n",
    "sns.jointplot(x='age_at_scan ', y='viq', data=sub_df)"
   ]
  },
  {
   "cell_type": "code",
   "execution_count": null,
   "metadata": {},
   "outputs": [],
   "source": [
    "# use an example from seaborn gallery (e.g. https://seaborn.pydata.org/examples/multiple_regression.html) \n",
    "# and change it with sub_df "
   ]
  },
  {
   "cell_type": "code",
   "execution_count": null,
   "metadata": {},
   "outputs": [],
   "source": [
    "sns.set()\n",
    "sns.set_context(\"paper\")\n",
    "sns.set_style(\"dark\")\n",
    "\n",
    "# Plot sepal with as a function of sepal_length across days\n",
    "g = sns.lmplot(x=\"age_at_scan \", y=\"viq\", hue=\"dx_group\",\n",
    "               truncate=True, height=5, data=sub_df)\n",
    "\n",
    "# Use more informative axis labels than are provided by default\n",
    "g.set_axis_labels(\"Age [year]\", \"VIQ\")\n"
   ]
  },
  {
   "cell_type": "markdown",
   "metadata": {},
   "source": [
    "#### examples taken from various great resources, mostly from:\n",
    "- scipy-lecture: https://scipy-lectures.org/intro/numpy/array_object.html\n",
    "- notebooks on neuro data science visualization: \n",
    "    - https://github.com/neurohackweek/visualization-in-python\n",
    "    - https://github.com/neuro-data-science/neuroviz"
   ]
  }
 ],
 "metadata": {
  "kernelspec": {
   "display_name": "Python 3",
   "language": "python",
   "name": "python3"
  },
  "language_info": {
   "codemirror_mode": {
    "name": "ipython",
    "version": 3
   },
   "file_extension": ".py",
   "mimetype": "text/x-python",
   "name": "python",
   "nbconvert_exporter": "python",
   "pygments_lexer": "ipython3",
   "version": "3.7.6"
  }
 },
 "nbformat": 4,
 "nbformat_minor": 2
}
