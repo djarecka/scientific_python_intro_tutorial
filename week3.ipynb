{
 "cells": [
  {
   "cell_type": "markdown",
   "metadata": {},
   "source": [
    "### [NumPy](https://numpy.org/)\n",
    "- a general-purpose array-processing package\n",
    "- provides high-performance multidimensional array objects and tools for working with these arrays\n",
    "- the fundamental package for scientific computing with Python"
   ]
  },
  {
   "cell_type": "code",
   "execution_count": 1,
   "metadata": {},
   "outputs": [],
   "source": [
    "# importing numpy and changing name\n",
    "import numpy as np"
   ]
  },
  {
   "cell_type": "code",
   "execution_count": 2,
   "metadata": {},
   "outputs": [],
   "source": [
    "# we can compare operations for lists and numpy arrays\n",
    "large_list = list(range(1000))\n",
    "large_array = np.array(large_list)"
   ]
  },
  {
   "cell_type": "code",
   "execution_count": 3,
   "metadata": {},
   "outputs": [
    {
     "name": "stdout",
     "output_type": "stream",
     "text": [
      "326 µs ± 4.98 µs per loop (mean ± std. dev. of 7 runs, 1000 loops each)\n"
     ]
    }
   ],
   "source": [
    "# check the time needed to calculate the second power of each element from the list\n",
    "\n",
    "%timeit [el**2 for el in large_list]"
   ]
  },
  {
   "cell_type": "code",
   "execution_count": 4,
   "metadata": {},
   "outputs": [
    {
     "name": "stdout",
     "output_type": "stream",
     "text": [
      "1.89 µs ± 10.6 ns per loop (mean ± std. dev. of 7 runs, 1000000 loops each)\n"
     ]
    }
   ],
   "source": [
    "# check the time needed to calculate the second power of each element from the numpy array\n",
    "%timeit large_array ** 2"
   ]
  },
  {
   "cell_type": "code",
   "execution_count": 5,
   "metadata": {},
   "outputs": [
    {
     "data": {
      "text/plain": [
       "array([[ 2.,  3.,  4.],\n",
       "       [10., 20., 30.]])"
      ]
     },
     "execution_count": 5,
     "metadata": {},
     "output_type": "execute_result"
    }
   ],
   "source": [
    "# create a multidimension arrays\n",
    "x_2d = np.array([[2., 3, 4], [10, 20, 30]])\n",
    "x_2d"
   ]
  },
  {
   "cell_type": "code",
   "execution_count": 7,
   "metadata": {},
   "outputs": [
    {
     "name": "stdout",
     "output_type": "stream",
     "text": [
      "2\n",
      "(2, 3)\n"
     ]
    }
   ],
   "source": [
    "# checking number of dimensions and shapes of the array\n",
    "print(x_2d.ndim)\n",
    "print(x_2d.shape)"
   ]
  },
  {
   "cell_type": "code",
   "execution_count": 8,
   "metadata": {},
   "outputs": [
    {
     "data": {
      "text/plain": [
       "dtype('float64')"
      ]
     },
     "execution_count": 8,
     "metadata": {},
     "output_type": "execute_result"
    }
   ],
   "source": [
    "# checking data typesx\n",
    "x_2d.dtype"
   ]
  },
  {
   "cell_type": "code",
   "execution_count": 11,
   "metadata": {},
   "outputs": [
    {
     "data": {
      "text/plain": [
       "array([0, 1, 2, 3, 4, 5, 6, 7, 8, 9])"
      ]
     },
     "execution_count": 11,
     "metadata": {},
     "output_type": "execute_result"
    }
   ],
   "source": [
    "# using arange and linspace to create arrays\n",
    "x = np.arange(10)\n",
    "x"
   ]
  },
  {
   "cell_type": "code",
   "execution_count": 12,
   "metadata": {},
   "outputs": [
    {
     "data": {
      "text/plain": [
       "array([0.        , 0.55555556, 1.11111111, 1.66666667, 2.22222222,\n",
       "       2.77777778, 3.33333333, 3.88888889, 4.44444444, 5.        ])"
      ]
     },
     "execution_count": 12,
     "metadata": {},
     "output_type": "execute_result"
    }
   ],
   "source": [
    "y = np.linspace(0, 5, 10)\n",
    "y"
   ]
  },
  {
   "cell_type": "code",
   "execution_count": 13,
   "metadata": {},
   "outputs": [
    {
     "name": "stdout",
     "output_type": "stream",
     "text": [
      "1\n",
      "[2, 3]\n"
     ]
    }
   ],
   "source": [
    "# indexing and slicing\n",
    "print(large_list[1])\n",
    "print(large_list[2:4])"
   ]
  },
  {
   "cell_type": "code",
   "execution_count": 16,
   "metadata": {},
   "outputs": [
    {
     "data": {
      "text/plain": [
       "10.0"
      ]
     },
     "execution_count": 16,
     "metadata": {},
     "output_type": "execute_result"
    }
   ],
   "source": [
    "# accesing elements of 2d arrays\n",
    "x_2d[1, 0]"
   ]
  },
  {
   "cell_type": "code",
   "execution_count": 17,
   "metadata": {},
   "outputs": [
    {
     "data": {
      "text/plain": [
       "10.0"
      ]
     },
     "execution_count": 17,
     "metadata": {},
     "output_type": "execute_result"
    }
   ],
   "source": [
    "x_2d[1][0]"
   ]
  },
  {
   "cell_type": "code",
   "execution_count": 20,
   "metadata": {},
   "outputs": [
    {
     "data": {
      "text/plain": [
       "array([2., 3., 4.])"
      ]
     },
     "execution_count": 20,
     "metadata": {},
     "output_type": "execute_result"
    }
   ],
   "source": [
    "# accesing the first row\n",
    "x_2d[0]"
   ]
  },
  {
   "cell_type": "code",
   "execution_count": 21,
   "metadata": {},
   "outputs": [
    {
     "data": {
      "text/plain": [
       "array([ 2., 10.])"
      ]
     },
     "execution_count": 21,
     "metadata": {},
     "output_type": "execute_result"
    }
   ],
   "source": [
    "# accesing the first column\n",
    "x_2d[:,0]"
   ]
  },
  {
   "cell_type": "markdown",
   "metadata": {},
   "source": [
    "### [Matplotlib](https://matplotlib.org/)\n",
    "- The most widely-used Python plotting library\n",
    "- Initially modeled on MATLAB's plotting system\n",
    "- Designed to provide complete control over a plot"
   ]
  },
  {
   "cell_type": "code",
   "execution_count": 22,
   "metadata": {},
   "outputs": [],
   "source": [
    "# this line enable plots in the notebook\n",
    "%matplotlib inline\n",
    "import matplotlib.pyplot as plt"
   ]
  },
  {
   "cell_type": "code",
   "execution_count": 23,
   "metadata": {},
   "outputs": [
    {
     "data": {
      "text/plain": [
       "(0, 10)"
      ]
     },
     "execution_count": 23,
     "metadata": {},
     "output_type": "execute_result"
    },
    {
     "data": {
      "image/png": "[encoded data removed]",
      "text/plain": [
       "<Figure size 432x288 with 1 Axes>"
      ]
     },
     "metadata": {
      "needs_background": "light"
     },
     "output_type": "display_data"
    }
   ],
   "source": [
    "# plot y vs x array\n",
    "plt.plot(x, y, marker=\".\")\n",
    "plt.ylim([0, 10])"
   ]
  },
  {
   "cell_type": "code",
   "execution_count": null,
   "metadata": {},
   "outputs": [],
   "source": [
    "# changing color, markers or line style: use documentation"
   ]
  },
  {
   "cell_type": "code",
   "execution_count": null,
   "metadata": {},
   "outputs": [],
   "source": [
    "# set plt.ylim to change the y axis range"
   ]
  },
  {
   "cell_type": "code",
   "execution_count": null,
   "metadata": {},
   "outputs": [],
   "source": [
    "# explore gallery and run https://matplotlib.org/examples/subplots_axes_and_figures/subplot_demo.html"
   ]
  },
  {
   "cell_type": "markdown",
   "metadata": {},
   "source": [
    "### [Pandas](https://pandas.pydata.org/)\n",
    "- a popular Python package for data science\n",
    "- fast and efficient support for DataFrame objects \n",
    "- loading data  from different file formats.\n",
    "- allows for grouping data for aggregation and transformations."
   ]
  },
  {
   "cell_type": "code",
   "execution_count": 24,
   "metadata": {},
   "outputs": [],
   "source": [
    "import pandas as pd"
   ]
  },
  {
   "cell_type": "code",
   "execution_count": 25,
   "metadata": {},
   "outputs": [],
   "source": [
    "# reading the table from a file\n",
    "df = pd.read_table('https://s3.amazonaws.com/fcp-indi/data/Projects/ABIDE2/RawData/ABIDEII-KKI_1/participants.tsv', na_values=\"n/a\")"
   ]
  },
  {
   "cell_type": "markdown",
   "metadata": {},
   "source": [
    "The data is described here:http://fcon_1000.projects.nitrc.org/indi/abide/ABIDE_LEGEND_V1.02.pdf"
   ]
  },
  {
   "cell_type": "code",
   "execution_count": 28,
   "metadata": {},
   "outputs": [
    {
     "data": {
      "text/html": [
       "<div>\n",
       "<style scoped>\n",
       "    .dataframe tbody tr th:only-of-type {\n",
       "        vertical-align: middle;\n",
       "    }\n",
       "\n",
       "    .dataframe tbody tr th {\n",
       "        vertical-align: top;\n",
       "    }\n",
       "\n",
       "    .dataframe thead th {\n",
       "        text-align: right;\n",
       "    }\n",
       "</style>\n",
       "<table border=\"1\" class=\"dataframe\">\n",
       "  <thead>\n",
       "    <tr style=\"text-align: right;\">\n",
       "      <th></th>\n",
       "      <th>site_id</th>\n",
       "      <th>participant_id</th>\n",
       "      <th>ndar_guid</th>\n",
       "      <th>dx_group</th>\n",
       "      <th>pdd_dsm_iv_tr</th>\n",
       "      <th>asd_dsm_5</th>\n",
       "      <th>age_at_scan</th>\n",
       "      <th>sex</th>\n",
       "      <th>handedness_category</th>\n",
       "      <th>handedness_scores</th>\n",
       "      <th>...</th>\n",
       "      <th>adi_r_c3_total</th>\n",
       "      <th>adi_r_c4_repetitive_use_objects</th>\n",
       "      <th>adi_r_c4_higher</th>\n",
       "      <th>adi_r_c4_unusual_sensory_interests</th>\n",
       "      <th>adi_r_c4_total</th>\n",
       "      <th>adi_r_d_age_parent_noticed</th>\n",
       "      <th>adi_r_d_age_first_single_words</th>\n",
       "      <th>adi_r_d_age_first_phrases</th>\n",
       "      <th>adi_r_d_age_when_abnormality</th>\n",
       "      <th>adi_r_d_interviewer_judgment</th>\n",
       "    </tr>\n",
       "  </thead>\n",
       "  <tbody>\n",
       "    <tr>\n",
       "      <th>0</th>\n",
       "      <td>ABIDEII-KKI_1</td>\n",
       "      <td>29273</td>\n",
       "      <td>NaN</td>\n",
       "      <td>1</td>\n",
       "      <td>2.0</td>\n",
       "      <td>NaN</td>\n",
       "      <td>8.476712</td>\n",
       "      <td>1</td>\n",
       "      <td>1.0</td>\n",
       "      <td>82.0</td>\n",
       "      <td>...</td>\n",
       "      <td>NaN</td>\n",
       "      <td>NaN</td>\n",
       "      <td>NaN</td>\n",
       "      <td>NaN</td>\n",
       "      <td>NaN</td>\n",
       "      <td>NaN</td>\n",
       "      <td>NaN</td>\n",
       "      <td>NaN</td>\n",
       "      <td>NaN</td>\n",
       "      <td>NaN</td>\n",
       "    </tr>\n",
       "    <tr>\n",
       "      <th>1</th>\n",
       "      <td>ABIDEII-KKI_1</td>\n",
       "      <td>29274</td>\n",
       "      <td>NaN</td>\n",
       "      <td>1</td>\n",
       "      <td>1.0</td>\n",
       "      <td>NaN</td>\n",
       "      <td>9.246575</td>\n",
       "      <td>1</td>\n",
       "      <td>1.0</td>\n",
       "      <td>83.0</td>\n",
       "      <td>...</td>\n",
       "      <td>NaN</td>\n",
       "      <td>NaN</td>\n",
       "      <td>NaN</td>\n",
       "      <td>NaN</td>\n",
       "      <td>NaN</td>\n",
       "      <td>NaN</td>\n",
       "      <td>NaN</td>\n",
       "      <td>NaN</td>\n",
       "      <td>NaN</td>\n",
       "      <td>NaN</td>\n",
       "    </tr>\n",
       "    <tr>\n",
       "      <th>2</th>\n",
       "      <td>ABIDEII-KKI_1</td>\n",
       "      <td>29275</td>\n",
       "      <td>NaN</td>\n",
       "      <td>1</td>\n",
       "      <td>1.0</td>\n",
       "      <td>NaN</td>\n",
       "      <td>8.646575</td>\n",
       "      <td>1</td>\n",
       "      <td>1.0</td>\n",
       "      <td>100.0</td>\n",
       "      <td>...</td>\n",
       "      <td>NaN</td>\n",
       "      <td>NaN</td>\n",
       "      <td>NaN</td>\n",
       "      <td>NaN</td>\n",
       "      <td>NaN</td>\n",
       "      <td>NaN</td>\n",
       "      <td>NaN</td>\n",
       "      <td>NaN</td>\n",
       "      <td>NaN</td>\n",
       "      <td>NaN</td>\n",
       "    </tr>\n",
       "    <tr>\n",
       "      <th>3</th>\n",
       "      <td>ABIDEII-KKI_1</td>\n",
       "      <td>29276</td>\n",
       "      <td>NaN</td>\n",
       "      <td>1</td>\n",
       "      <td>2.0</td>\n",
       "      <td>NaN</td>\n",
       "      <td>9.216438</td>\n",
       "      <td>2</td>\n",
       "      <td>1.0</td>\n",
       "      <td>100.0</td>\n",
       "      <td>...</td>\n",
       "      <td>NaN</td>\n",
       "      <td>NaN</td>\n",
       "      <td>NaN</td>\n",
       "      <td>NaN</td>\n",
       "      <td>NaN</td>\n",
       "      <td>NaN</td>\n",
       "      <td>NaN</td>\n",
       "      <td>NaN</td>\n",
       "      <td>NaN</td>\n",
       "      <td>NaN</td>\n",
       "    </tr>\n",
       "    <tr>\n",
       "      <th>4</th>\n",
       "      <td>ABIDEII-KKI_1</td>\n",
       "      <td>29277</td>\n",
       "      <td>NaN</td>\n",
       "      <td>1</td>\n",
       "      <td>2.0</td>\n",
       "      <td>NaN</td>\n",
       "      <td>12.789041</td>\n",
       "      <td>1</td>\n",
       "      <td>1.0</td>\n",
       "      <td>90.0</td>\n",
       "      <td>...</td>\n",
       "      <td>NaN</td>\n",
       "      <td>NaN</td>\n",
       "      <td>NaN</td>\n",
       "      <td>NaN</td>\n",
       "      <td>NaN</td>\n",
       "      <td>NaN</td>\n",
       "      <td>NaN</td>\n",
       "      <td>NaN</td>\n",
       "      <td>NaN</td>\n",
       "      <td>NaN</td>\n",
       "    </tr>\n",
       "  </tbody>\n",
       "</table>\n",
       "<p>5 rows × 348 columns</p>\n",
       "</div>"
      ],
      "text/plain": [
       "         site_id  participant_id  ndar_guid  dx_group  pdd_dsm_iv_tr  \\\n",
       "0  ABIDEII-KKI_1           29273        NaN         1            2.0   \n",
       "1  ABIDEII-KKI_1           29274        NaN         1            1.0   \n",
       "2  ABIDEII-KKI_1           29275        NaN         1            1.0   \n",
       "3  ABIDEII-KKI_1           29276        NaN         1            2.0   \n",
       "4  ABIDEII-KKI_1           29277        NaN         1            2.0   \n",
       "\n",
       "   asd_dsm_5  age_at_scan   sex  handedness_category  handedness_scores  ...  \\\n",
       "0        NaN      8.476712    1                  1.0               82.0  ...   \n",
       "1        NaN      9.246575    1                  1.0               83.0  ...   \n",
       "2        NaN      8.646575    1                  1.0              100.0  ...   \n",
       "3        NaN      9.216438    2                  1.0              100.0  ...   \n",
       "4        NaN     12.789041    1                  1.0               90.0  ...   \n",
       "\n",
       "   adi_r_c3_total  adi_r_c4_repetitive_use_objects  adi_r_c4_higher  \\\n",
       "0             NaN                              NaN              NaN   \n",
       "1             NaN                              NaN              NaN   \n",
       "2             NaN                              NaN              NaN   \n",
       "3             NaN                              NaN              NaN   \n",
       "4             NaN                              NaN              NaN   \n",
       "\n",
       "  adi_r_c4_unusual_sensory_interests adi_r_c4_total  \\\n",
       "0                                NaN            NaN   \n",
       "1                                NaN            NaN   \n",
       "2                                NaN            NaN   \n",
       "3                                NaN            NaN   \n",
       "4                                NaN            NaN   \n",
       "\n",
       "  adi_r_d_age_parent_noticed  adi_r_d_age_first_single_words  \\\n",
       "0                        NaN                             NaN   \n",
       "1                        NaN                             NaN   \n",
       "2                        NaN                             NaN   \n",
       "3                        NaN                             NaN   \n",
       "4                        NaN                             NaN   \n",
       "\n",
       "   adi_r_d_age_first_phrases  adi_r_d_age_when_abnormality  \\\n",
       "0                        NaN                           NaN   \n",
       "1                        NaN                           NaN   \n",
       "2                        NaN                           NaN   \n",
       "3                        NaN                           NaN   \n",
       "4                        NaN                           NaN   \n",
       "\n",
       "   adi_r_d_interviewer_judgment  \n",
       "0                           NaN  \n",
       "1                           NaN  \n",
       "2                           NaN  \n",
       "3                           NaN  \n",
       "4                           NaN  \n",
       "\n",
       "[5 rows x 348 columns]"
      ]
     },
     "execution_count": 28,
     "metadata": {},
     "output_type": "execute_result"
    }
   ],
   "source": [
    "# explore the data frame: use head, and keys\n",
    "df.head()"
   ]
  },
  {
   "cell_type": "code",
   "execution_count": 29,
   "metadata": {},
   "outputs": [
    {
     "data": {
      "text/plain": [
       "Index(['site_id', 'participant_id', 'ndar_guid', 'dx_group', 'pdd_dsm_iv_tr',\n",
       "       'asd_dsm_5', 'age_at_scan ', 'sex', 'handedness_category',\n",
       "       'handedness_scores',\n",
       "       ...\n",
       "       'adi_r_c3_total', 'adi_r_c4_repetitive_use_objects', 'adi_r_c4_higher',\n",
       "       'adi_r_c4_unusual_sensory_interests', 'adi_r_c4_total',\n",
       "       'adi_r_d_age_parent_noticed', 'adi_r_d_age_first_single_words',\n",
       "       'adi_r_d_age_first_phrases', 'adi_r_d_age_when_abnormality',\n",
       "       'adi_r_d_interviewer_judgment'],\n",
       "      dtype='object', length=348)"
      ]
     },
     "execution_count": 29,
     "metadata": {},
     "output_type": "execute_result"
    }
   ],
   "source": [
    "df.keys()"
   ]
  },
  {
   "cell_type": "code",
   "execution_count": 30,
   "metadata": {},
   "outputs": [],
   "source": [
    "# remove columns that have NaNs: use dropna \n",
    "sub_df = df.dropna(axis=1)"
   ]
  },
  {
   "cell_type": "code",
   "execution_count": 31,
   "metadata": {},
   "outputs": [
    {
     "data": {
      "text/html": [
       "<div>\n",
       "<style scoped>\n",
       "    .dataframe tbody tr th:only-of-type {\n",
       "        vertical-align: middle;\n",
       "    }\n",
       "\n",
       "    .dataframe tbody tr th {\n",
       "        vertical-align: top;\n",
       "    }\n",
       "\n",
       "    .dataframe thead th {\n",
       "        text-align: right;\n",
       "    }\n",
       "</style>\n",
       "<table border=\"1\" class=\"dataframe\">\n",
       "  <thead>\n",
       "    <tr style=\"text-align: right;\">\n",
       "      <th></th>\n",
       "      <th>site_id</th>\n",
       "      <th>participant_id</th>\n",
       "      <th>dx_group</th>\n",
       "      <th>age_at_scan</th>\n",
       "      <th>sex</th>\n",
       "      <th>handedness_category</th>\n",
       "      <th>handedness_scores</th>\n",
       "      <th>viq</th>\n",
       "      <th>piq</th>\n",
       "      <th>viq_test_type</th>\n",
       "      <th>piq_test_type</th>\n",
       "      <th>nonasd_psydx_icd9code</th>\n",
       "      <th>nonasd_psydx_label</th>\n",
       "      <th>eye_status_at_scan</th>\n",
       "    </tr>\n",
       "  </thead>\n",
       "  <tbody>\n",
       "    <tr>\n",
       "      <th>0</th>\n",
       "      <td>ABIDEII-KKI_1</td>\n",
       "      <td>29273</td>\n",
       "      <td>1</td>\n",
       "      <td>8.476712</td>\n",
       "      <td>1</td>\n",
       "      <td>1.0</td>\n",
       "      <td>82.0</td>\n",
       "      <td>142.0</td>\n",
       "      <td>104.0</td>\n",
       "      <td>WISC-IV</td>\n",
       "      <td>WISC-IV</td>\n",
       "      <td>314.01</td>\n",
       "      <td>ADHD combined</td>\n",
       "      <td>1.0</td>\n",
       "    </tr>\n",
       "    <tr>\n",
       "      <th>1</th>\n",
       "      <td>ABIDEII-KKI_1</td>\n",
       "      <td>29274</td>\n",
       "      <td>1</td>\n",
       "      <td>9.246575</td>\n",
       "      <td>1</td>\n",
       "      <td>1.0</td>\n",
       "      <td>83.0</td>\n",
       "      <td>104.0</td>\n",
       "      <td>79.0</td>\n",
       "      <td>WISC-IV</td>\n",
       "      <td>WISC-IV</td>\n",
       "      <td>296.3</td>\n",
       "      <td>MDD (past)</td>\n",
       "      <td>1.0</td>\n",
       "    </tr>\n",
       "    <tr>\n",
       "      <th>2</th>\n",
       "      <td>ABIDEII-KKI_1</td>\n",
       "      <td>29275</td>\n",
       "      <td>1</td>\n",
       "      <td>8.646575</td>\n",
       "      <td>1</td>\n",
       "      <td>1.0</td>\n",
       "      <td>100.0</td>\n",
       "      <td>130.0</td>\n",
       "      <td>121.0</td>\n",
       "      <td>WISC-IV</td>\n",
       "      <td>WISC-IV</td>\n",
       "      <td>313.81</td>\n",
       "      <td>ODD</td>\n",
       "      <td>1.0</td>\n",
       "    </tr>\n",
       "    <tr>\n",
       "      <th>3</th>\n",
       "      <td>ABIDEII-KKI_1</td>\n",
       "      <td>29276</td>\n",
       "      <td>1</td>\n",
       "      <td>9.216438</td>\n",
       "      <td>2</td>\n",
       "      <td>1.0</td>\n",
       "      <td>100.0</td>\n",
       "      <td>128.0</td>\n",
       "      <td>115.0</td>\n",
       "      <td>WISC-IV</td>\n",
       "      <td>WISC-IV</td>\n",
       "      <td>314.01; 300.29</td>\n",
       "      <td>ADHD combined; simple phobia</td>\n",
       "      <td>1.0</td>\n",
       "    </tr>\n",
       "    <tr>\n",
       "      <th>4</th>\n",
       "      <td>ABIDEII-KKI_1</td>\n",
       "      <td>29277</td>\n",
       "      <td>1</td>\n",
       "      <td>12.789041</td>\n",
       "      <td>1</td>\n",
       "      <td>1.0</td>\n",
       "      <td>90.0</td>\n",
       "      <td>132.0</td>\n",
       "      <td>123.0</td>\n",
       "      <td>WISC-IV</td>\n",
       "      <td>WISC-IV</td>\n",
       "      <td>314.01</td>\n",
       "      <td>ADHD hyperactive/impulsive</td>\n",
       "      <td>1.0</td>\n",
       "    </tr>\n",
       "  </tbody>\n",
       "</table>\n",
       "</div>"
      ],
      "text/plain": [
       "         site_id  participant_id  dx_group  age_at_scan   sex  \\\n",
       "0  ABIDEII-KKI_1           29273         1      8.476712    1   \n",
       "1  ABIDEII-KKI_1           29274         1      9.246575    1   \n",
       "2  ABIDEII-KKI_1           29275         1      8.646575    1   \n",
       "3  ABIDEII-KKI_1           29276         1      9.216438    2   \n",
       "4  ABIDEII-KKI_1           29277         1     12.789041    1   \n",
       "\n",
       "   handedness_category  handedness_scores    viq    piq viq_test_type  \\\n",
       "0                  1.0               82.0  142.0  104.0       WISC-IV   \n",
       "1                  1.0               83.0  104.0   79.0       WISC-IV   \n",
       "2                  1.0              100.0  130.0  121.0       WISC-IV   \n",
       "3                  1.0              100.0  128.0  115.0       WISC-IV   \n",
       "4                  1.0               90.0  132.0  123.0       WISC-IV   \n",
       "\n",
       "  piq_test_type nonasd_psydx_icd9code            nonasd_psydx_label  \\\n",
       "0       WISC-IV                314.01                 ADHD combined   \n",
       "1       WISC-IV                 296.3                    MDD (past)   \n",
       "2       WISC-IV                313.81                          ODD    \n",
       "3       WISC-IV        314.01; 300.29  ADHD combined; simple phobia   \n",
       "4       WISC-IV                314.01    ADHD hyperactive/impulsive   \n",
       "\n",
       "   eye_status_at_scan  \n",
       "0                 1.0  \n",
       "1                 1.0  \n",
       "2                 1.0  \n",
       "3                 1.0  \n",
       "4                 1.0  "
      ]
     },
     "execution_count": 31,
     "metadata": {},
     "output_type": "execute_result"
    }
   ],
   "source": [
    "sub_df.head()"
   ]
  },
  {
   "cell_type": "code",
   "execution_count": 32,
   "metadata": {},
   "outputs": [
    {
     "data": {
      "text/plain": [
       "Index(['site_id', 'participant_id', 'dx_group', 'age_at_scan ', 'sex',\n",
       "       'handedness_category', 'handedness_scores', 'viq', 'piq',\n",
       "       'viq_test_type', 'piq_test_type', 'nonasd_psydx_icd9code',\n",
       "       'nonasd_psydx_label', 'eye_status_at_scan'],\n",
       "      dtype='object')"
      ]
     },
     "execution_count": 32,
     "metadata": {},
     "output_type": "execute_result"
    }
   ],
   "source": [
    "sub_df.keys()"
   ]
  },
  {
   "cell_type": "code",
   "execution_count": null,
   "metadata": {},
   "outputs": [],
   "source": [
    "# 1. use plt.scatter to plot 'age_at_scan ' vs \"viq\"\n",
    "# 2. use figure to set the figsize\n",
    "# 3. add xlable, ylabel and the title\n"
   ]
  },
  {
   "cell_type": "code",
   "execution_count": 33,
   "metadata": {},
   "outputs": [
    {
     "data": {
      "text/plain": [
       "<matplotlib.collections.PathCollection at 0x119bac6d8>"
      ]
     },
     "execution_count": 33,
     "metadata": {},
     "output_type": "execute_result"
    },
    {
     "data": {
      "image/png": "[encoded data removed]",
      "text/plain": [
       "<Figure size 432x288 with 1 Axes>"
      ]
     },
     "metadata": {
      "needs_background": "light"
     },
     "output_type": "display_data"
    }
   ],
   "source": [
    "# 1. use plt.scatter to plot 'age_at_scan ' vs \"viq\"\n",
    "plt.scatter(sub_df[\"age_at_scan \"], sub_df[\"viq\"])"
   ]
  },
  {
   "cell_type": "code",
   "execution_count": 35,
   "metadata": {},
   "outputs": [
    {
     "data": {
      "text/plain": [
       "Text(0.5, 1.0, 'VIQ vs age')"
      ]
     },
     "execution_count": 35,
     "metadata": {},
     "output_type": "execute_result"
    },
    {
     "data": {
      "image/png": "[encoded data removed]",
      "text/plain": [
       "<Figure size 720x360 with 1 Axes>"
      ]
     },
     "metadata": {
      "needs_background": "light"
     },
     "output_type": "display_data"
    }
   ],
   "source": [
    "# 2. use figure to set the figsize\n",
    "plt.figure(figsize=(10, 5))\n",
    "plt.scatter(sub_df[\"age_at_scan \"], sub_df[\"viq\"])\n",
    "# 3. add xlable, ylabel and the title\n",
    "plt.xlabel(\"age\")\n",
    "plt.ylabel(\"viq\")\n",
    "plt.title(\"VIQ vs age\")"
   ]
  },
  {
   "cell_type": "code",
   "execution_count": 36,
   "metadata": {},
   "outputs": [
    {
     "data": {
      "text/html": [
       "<div>\n",
       "<style scoped>\n",
       "    .dataframe tbody tr th:only-of-type {\n",
       "        vertical-align: middle;\n",
       "    }\n",
       "\n",
       "    .dataframe tbody tr th {\n",
       "        vertical-align: top;\n",
       "    }\n",
       "\n",
       "    .dataframe thead th {\n",
       "        text-align: right;\n",
       "    }\n",
       "</style>\n",
       "<table border=\"1\" class=\"dataframe\">\n",
       "  <thead>\n",
       "    <tr style=\"text-align: right;\">\n",
       "      <th></th>\n",
       "      <th>viq</th>\n",
       "      <th>piq</th>\n",
       "    </tr>\n",
       "    <tr>\n",
       "      <th>dx_group</th>\n",
       "      <th></th>\n",
       "      <th></th>\n",
       "    </tr>\n",
       "  </thead>\n",
       "  <tbody>\n",
       "    <tr>\n",
       "      <th>1</th>\n",
       "      <td>109.910714</td>\n",
       "      <td>105.250000</td>\n",
       "    </tr>\n",
       "    <tr>\n",
       "      <th>2</th>\n",
       "      <td>117.980645</td>\n",
       "      <td>110.690323</td>\n",
       "    </tr>\n",
       "  </tbody>\n",
       "</table>\n",
       "</div>"
      ],
      "text/plain": [
       "                 viq         piq\n",
       "dx_group                        \n",
       "1         109.910714  105.250000\n",
       "2         117.980645  110.690323"
      ]
     },
     "execution_count": 36,
     "metadata": {},
     "output_type": "execute_result"
    }
   ],
   "source": [
    "# use `groupby` to group the data by diagnostic groups - \"dx_group\" to calculate means in both groups \n",
    "sub_df.groupby(\"dx_group\")[\"viq\", \"piq\"].mean()"
   ]
  },
  {
   "cell_type": "code",
   "execution_count": 38,
   "metadata": {},
   "outputs": [
    {
     "data": {
      "text/plain": [
       "Text(0.5, 1.0, 'VIQ vs age')"
      ]
     },
     "execution_count": 38,
     "metadata": {},
     "output_type": "execute_result"
    },
    {
     "data": {
      "image/png": "[encoded data removed]",
      "text/plain": [
       "<Figure size 720x360 with 1 Axes>"
      ]
     },
     "metadata": {
      "needs_background": "light"
     },
     "output_type": "display_data"
    }
   ],
   "source": [
    "# plot the scatter plot again, this time separate the groups\n",
    "\n",
    "plt.figure(figsize=(10, 5))\n",
    "# More scatter plots, breaking up by species\n",
    "colors = ['blue', 'green']\n",
    "for i, (s, grp) in enumerate(sub_df.groupby('dx_group')):\n",
    "    plt.scatter(grp['age_at_scan '], grp['viq'], c=colors[i])\n",
    "plt.legend([\"autism\", \"control\"])\n",
    "plt.xlabel(\"age\")\n",
    "plt.ylabel(\"viq\")\n",
    "plt.title(\"VIQ vs age\")"
   ]
  },
  {
   "cell_type": "code",
   "execution_count": null,
   "metadata": {},
   "outputs": [],
   "source": [
    "# use plt.sublots to plot  \"viq\" and \"piq\" next to each other\n",
    "# use examples from matplotlib galleries, \n",
    "# e.g. https://matplotlib.org/3.1.1/gallery/subplots_axes_and_figures/figure_title.html#sphx-glr-gallery-subplots-axes-and-figures-figure-title-py"
   ]
  },
  {
   "cell_type": "code",
   "execution_count": 44,
   "metadata": {},
   "outputs": [
    {
     "data": {
      "text/plain": [
       "Text(0.5, 1.0, 'PIQ vs age')"
      ]
     },
     "execution_count": 44,
     "metadata": {},
     "output_type": "execute_result"
    },
    {
     "data": {
      "image/png": "[encoded data removed]",
      "text/plain": [
       "<Figure size 1080x288 with 2 Axes>"
      ]
     },
     "metadata": {
      "needs_background": "light"
     },
     "output_type": "display_data"
    }
   ],
   "source": [
    "# Set up a figure with 2 columns\n",
    "fig, axes = plt.subplots(1, 2, figsize=(15, 4))\n",
    "\n",
    "# setting everything for the first plot\n",
    "axes[0].scatter(sub_df[\"age_at_scan \"], sub_df[\"viq\"])\n",
    "axes[0].set_xlabel(\"age\")\n",
    "axes[0].set_ylabel(\"viq\")\n",
    "axes[0].set_title(\"VIQ vs age\")\n",
    "\n",
    "# setting everything for the second plot\n",
    "axes[1].scatter(sub_df[\"age_at_scan \"], sub_df[\"piq\"])\n",
    "axes[1].set_xlabel(\"age\")\n",
    "axes[1].set_ylabel(\"piq\")\n",
    "axes[1].set_title(\"PIQ vs age\")\n"
   ]
  },
  {
   "cell_type": "markdown",
   "metadata": {},
   "source": [
    "#### Matplotlib Pros\n",
    "- provides low-level control over virtually every element of a plot\n",
    "- close integration with numpy\n",
    "- large and active community\n",
    "- big range of functionality (figure compositing, layering, annotation, coordinate transformations, color mapping, etc.)\n",
    "\n",
    "#### Matplotlib Cons\n",
    "- steep learning curve\n",
    "- API is extremely unpredictable -- redundancy and inconsistency are common\n",
    "- some simple things are hard; some complex things are easy\n",
    "- default styles are kind of ugly\n",
    "- documentation is often hard to use (check the gallery!)"
   ]
  },
  {
   "cell_type": "markdown",
   "metadata": {},
   "source": [
    "#### Pandas as an alternative\n",
    "- DataFrame integration\n",
    "- often the easiest approach for simple data exploration"
   ]
  },
  {
   "cell_type": "code",
   "execution_count": 45,
   "metadata": {},
   "outputs": [
    {
     "data": {
      "text/plain": [
       "<matplotlib.axes._subplots.AxesSubplot at 0x11b137780>"
      ]
     },
     "execution_count": 45,
     "metadata": {},
     "output_type": "execute_result"
    },
    {
     "data": {
      "image/png": "[encoded data removed]",
      "text/plain": [
       "<Figure size 432x288 with 1 Axes>"
      ]
     },
     "metadata": {
      "needs_background": "light"
     },
     "output_type": "display_data"
    }
   ],
   "source": [
    "# using pandas to for simple scatter plot\n",
    "sub_df.plot('age_at_scan ', \"piq\", kind=\"scatter\")"
   ]
  },
  {
   "cell_type": "markdown",
   "metadata": {},
   "source": [
    "### [Seaborn](https://seaborn.pydata.org/index.html) as an alternative\n",
    "-  data visualization library based on matplotlib\n",
    "- provides a high-level interface for drawing attractive and informative statistical graphics\n",
    "- generates beautiful plots in very little code (default style is much nicer than in Matplotlib)\n",
    "- Very good documentation! :-)\n"
   ]
  },
  {
   "cell_type": "code",
   "execution_count": 46,
   "metadata": {},
   "outputs": [],
   "source": [
    "import seaborn as sns"
   ]
  },
  {
   "cell_type": "code",
   "execution_count": 47,
   "metadata": {},
   "outputs": [],
   "source": [
    "# reset the default parameters\n",
    "sns.set()\n",
    "# http://seaborn.pydata.org/tutorial/aesthetics.html#scaling-plot-elements\n",
    "sns.set_context(\"paper\")\n",
    "# http://seaborn.pydata.org/tutorial/aesthetics.html#seaborn-figure-styles\n",
    "sns.set_style(\"dark\")"
   ]
  },
  {
   "cell_type": "code",
   "execution_count": 48,
   "metadata": {},
   "outputs": [
    {
     "data": {
      "text/plain": [
       "Text(0.5, 1.0, 'Comparing Age and Verbal IQ')"
      ]
     },
     "execution_count": 48,
     "metadata": {},
     "output_type": "execute_result"
    },
    {
     "data": {
      "image/png": "[encoded data removed]",
      "text/plain": [
       "<Figure size 720x360 with 1 Axes>"
      ]
     },
     "metadata": {},
     "output_type": "display_data"
    }
   ],
   "source": [
    "# this is just a copy of the previous plot, but uses seaborn styles\n",
    "plt.figure(figsize=(10, 5))\n",
    "plt.scatter(sub_df['age_at_scan '], sub_df.viq)\n",
    "plt.xlabel('Age at scan')\n",
    "plt.ylabel('Verbal IQ')\n",
    "plt.title('Comparing Age and Verbal IQ')"
   ]
  },
  {
   "cell_type": "code",
   "execution_count": 49,
   "metadata": {},
   "outputs": [
    {
     "data": {
      "text/plain": [
       "<seaborn.axisgrid.JointGrid at 0x11cfa6978>"
      ]
     },
     "execution_count": 49,
     "metadata": {},
     "output_type": "execute_result"
    },
    {
     "data": {
      "image/png": "[encoded data removed]",
      "text/plain": [
       "<Figure size 432x432 with 3 Axes>"
      ]
     },
     "metadata": {},
     "output_type": "display_data"
    }
   ],
   "source": [
    "# use seaborn joinplot\n",
    "sns.jointplot(x='age_at_scan ', y='viq', data=sub_df)"
   ]
  },
  {
   "cell_type": "code",
   "execution_count": null,
   "metadata": {},
   "outputs": [],
   "source": [
    "# use an example from seaborn gallery (e.g. https://seaborn.pydata.org/examples/multiple_regression.html) \n",
    "# to present su "
   ]
  },
  {
   "cell_type": "code",
   "execution_count": 50,
   "metadata": {},
   "outputs": [
    {
     "data": {
      "text/plain": [
       "<seaborn.axisgrid.FacetGrid at 0x11d0ca1d0>"
      ]
     },
     "execution_count": 50,
     "metadata": {},
     "output_type": "execute_result"
    },
    {
     "data": {
      "image/png": "[encoded data removed]",
      "text/plain": [
       "<Figure size 401.04x360 with 1 Axes>"
      ]
     },
     "metadata": {},
     "output_type": "display_data"
    }
   ],
   "source": [
    "sns.set()\n",
    "sns.set_context(\"paper\")\n",
    "sns.set_style(\"dark\")\n",
    "# # Load the iris dataset\n",
    "# iris = sns.load_dataset(\"iris\")\n",
    "\n",
    "# Plot sepal with as a function of sepal_length across days\n",
    "g = sns.lmplot(x=\"age_at_scan \", y=\"viq\", hue=\"dx_group\",\n",
    "               truncate=True, height=5, data=sub_df)\n",
    "\n",
    "# Use more informative axis labels than are provided by default\n",
    "g.set_axis_labels(\"Age [year]\", \"VIQ\")\n"
   ]
  },
  {
   "cell_type": "markdown",
   "metadata": {},
   "source": [
    "#### examples taken from various great resources, mostly from:\n",
    "- scipy-lecture: https://scipy-lectures.org/intro/numpy/array_object.html\n",
    "- notebooks on neuro data science visualization: \n",
    "    - https://github.com/neurohackweek/visualization-in-python\n",
    "    - https://github.com/neuro-data-science/neuroviz"
   ]
  }
 ],
 "metadata": {
  "kernelspec": {
   "display_name": "Python 3",
   "language": "python",
   "name": "python3"
  },
  "language_info": {
   "codemirror_mode": {
    "name": "ipython",
    "version": 3
   },
   "file_extension": ".py",
   "mimetype": "text/x-python",
   "name": "python",
   "nbconvert_exporter": "python",
   "pygments_lexer": "ipython3",
   "version": "3.7.3"
  }
 },
 "nbformat": 4,
 "nbformat_minor": 2
}
